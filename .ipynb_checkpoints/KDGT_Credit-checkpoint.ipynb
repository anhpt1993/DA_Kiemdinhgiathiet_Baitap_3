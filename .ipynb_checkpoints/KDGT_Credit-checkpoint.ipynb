{
 "cells": [
  {
   "cell_type": "markdown",
   "id": "45e2e07c-24ee-44f8-9eeb-2e277238ae24",
   "metadata": {},
   "source": [
    "# 0. Khai báo các thư viện cần thiết"
   ]
  },
  {
   "cell_type": "code",
   "execution_count": 1,
   "id": "b886ec3c-86ff-451e-a7b1-81d239083bc8",
   "metadata": {},
   "outputs": [],
   "source": [
    "import pandas as pd\n",
    "import numpy as np\n",
    "import seaborn as nsn\n",
    "from scipy import stats"
   ]
  },
  {
   "cell_type": "markdown",
   "id": "a1c3ba62-9499-4fda-9a5c-763dc04e31d0",
   "metadata": {},
   "source": [
    "# 1. Đọc dữ liệu từ file CSV"
   ]
  },
  {
   "cell_type": "code",
   "execution_count": 2,
   "id": "220ffb6e-e854-4016-bcd1-26f6a9992201",
   "metadata": {},
   "outputs": [
    {
     "data": {
      "text/html": [
       "<div>\n",
       "<style scoped>\n",
       "    .dataframe tbody tr th:only-of-type {\n",
       "        vertical-align: middle;\n",
       "    }\n",
       "\n",
       "    .dataframe tbody tr th {\n",
       "        vertical-align: top;\n",
       "    }\n",
       "\n",
       "    .dataframe thead th {\n",
       "        text-align: right;\n",
       "    }\n",
       "</style>\n",
       "<table border=\"1\" class=\"dataframe\">\n",
       "  <thead>\n",
       "    <tr style=\"text-align: right;\">\n",
       "      <th></th>\n",
       "      <th>Unnamed: 0</th>\n",
       "      <th>SeriousDlqin2yrs</th>\n",
       "      <th>RevolvingUtilizationOfUnsecuredLines</th>\n",
       "      <th>age</th>\n",
       "      <th>NumberOfTime30-59DaysPastDueNotWorse</th>\n",
       "      <th>DebtRatio</th>\n",
       "      <th>MonthlyIncome</th>\n",
       "      <th>NumberOfOpenCreditLinesAndLoans</th>\n",
       "      <th>NumberOfTimes90DaysLate</th>\n",
       "      <th>NumberRealEstateLoansOrLines</th>\n",
       "      <th>NumberOfTime60-89DaysPastDueNotWorse</th>\n",
       "      <th>NumberOfDependents</th>\n",
       "    </tr>\n",
       "  </thead>\n",
       "  <tbody>\n",
       "    <tr>\n",
       "      <th>0</th>\n",
       "      <td>9</td>\n",
       "      <td>0</td>\n",
       "      <td>0.116951</td>\n",
       "      <td>27</td>\n",
       "      <td>0</td>\n",
       "      <td>46.000000</td>\n",
       "      <td>NaN</td>\n",
       "      <td>2</td>\n",
       "      <td>0</td>\n",
       "      <td>0</td>\n",
       "      <td>0</td>\n",
       "      <td>NaN</td>\n",
       "    </tr>\n",
       "    <tr>\n",
       "      <th>1</th>\n",
       "      <td>10</td>\n",
       "      <td>0</td>\n",
       "      <td>0.189169</td>\n",
       "      <td>57</td>\n",
       "      <td>0</td>\n",
       "      <td>0.606291</td>\n",
       "      <td>23684.0</td>\n",
       "      <td>9</td>\n",
       "      <td>0</td>\n",
       "      <td>4</td>\n",
       "      <td>0</td>\n",
       "      <td>2.0</td>\n",
       "    </tr>\n",
       "    <tr>\n",
       "      <th>2</th>\n",
       "      <td>11</td>\n",
       "      <td>0</td>\n",
       "      <td>0.644226</td>\n",
       "      <td>30</td>\n",
       "      <td>0</td>\n",
       "      <td>0.309476</td>\n",
       "      <td>2500.0</td>\n",
       "      <td>5</td>\n",
       "      <td>0</td>\n",
       "      <td>0</td>\n",
       "      <td>0</td>\n",
       "      <td>0.0</td>\n",
       "    </tr>\n",
       "    <tr>\n",
       "      <th>3</th>\n",
       "      <td>12</td>\n",
       "      <td>0</td>\n",
       "      <td>0.018798</td>\n",
       "      <td>51</td>\n",
       "      <td>0</td>\n",
       "      <td>0.531529</td>\n",
       "      <td>6501.0</td>\n",
       "      <td>7</td>\n",
       "      <td>0</td>\n",
       "      <td>2</td>\n",
       "      <td>0</td>\n",
       "      <td>2.0</td>\n",
       "    </tr>\n",
       "    <tr>\n",
       "      <th>4</th>\n",
       "      <td>13</td>\n",
       "      <td>0</td>\n",
       "      <td>0.010352</td>\n",
       "      <td>46</td>\n",
       "      <td>0</td>\n",
       "      <td>0.298354</td>\n",
       "      <td>12454.0</td>\n",
       "      <td>13</td>\n",
       "      <td>0</td>\n",
       "      <td>2</td>\n",
       "      <td>0</td>\n",
       "      <td>2.0</td>\n",
       "    </tr>\n",
       "  </tbody>\n",
       "</table>\n",
       "</div>"
      ],
      "text/plain": [
       "   Unnamed: 0  SeriousDlqin2yrs  RevolvingUtilizationOfUnsecuredLines  age  \\\n",
       "0           9                 0                              0.116951   27   \n",
       "1          10                 0                              0.189169   57   \n",
       "2          11                 0                              0.644226   30   \n",
       "3          12                 0                              0.018798   51   \n",
       "4          13                 0                              0.010352   46   \n",
       "\n",
       "   NumberOfTime30-59DaysPastDueNotWorse  DebtRatio  MonthlyIncome  \\\n",
       "0                                     0  46.000000            NaN   \n",
       "1                                     0   0.606291        23684.0   \n",
       "2                                     0   0.309476         2500.0   \n",
       "3                                     0   0.531529         6501.0   \n",
       "4                                     0   0.298354        12454.0   \n",
       "\n",
       "   NumberOfOpenCreditLinesAndLoans  NumberOfTimes90DaysLate  \\\n",
       "0                                2                        0   \n",
       "1                                9                        0   \n",
       "2                                5                        0   \n",
       "3                                7                        0   \n",
       "4                               13                        0   \n",
       "\n",
       "   NumberRealEstateLoansOrLines  NumberOfTime60-89DaysPastDueNotWorse  \\\n",
       "0                             0                                     0   \n",
       "1                             4                                     0   \n",
       "2                             0                                     0   \n",
       "3                             2                                     0   \n",
       "4                             2                                     0   \n",
       "\n",
       "   NumberOfDependents  \n",
       "0                 NaN  \n",
       "1                 2.0  \n",
       "2                 0.0  \n",
       "3                 2.0  \n",
       "4                 2.0  "
      ]
     },
     "execution_count": 2,
     "metadata": {},
     "output_type": "execute_result"
    }
   ],
   "source": [
    "df = pd.read_csv(\"https://s3.ap-southeast-1.amazonaws.com/learn.codegym.vn/media/public/2022/01/26023345/Credit_Scoring.csv\", encoding = \"ISO-8859-1\")\n",
    "df.head()"
   ]
  },
  {
   "cell_type": "code",
   "execution_count": 3,
   "id": "7e15c18b-dd5a-47d8-a4c5-09790c48c185",
   "metadata": {},
   "outputs": [
    {
     "name": "stdout",
     "output_type": "stream",
     "text": [
      "<class 'pandas.core.frame.DataFrame'>\n",
      "RangeIndex: 149992 entries, 0 to 149991\n",
      "Data columns (total 12 columns):\n",
      " #   Column                                Non-Null Count   Dtype  \n",
      "---  ------                                --------------   -----  \n",
      " 0   Unnamed: 0                            149992 non-null  int64  \n",
      " 1   SeriousDlqin2yrs                      149992 non-null  int64  \n",
      " 2   RevolvingUtilizationOfUnsecuredLines  149992 non-null  float64\n",
      " 3   age                                   149992 non-null  int64  \n",
      " 4   NumberOfTime30-59DaysPastDueNotWorse  149992 non-null  int64  \n",
      " 5   DebtRatio                             149992 non-null  float64\n",
      " 6   MonthlyIncome                         120262 non-null  float64\n",
      " 7   NumberOfOpenCreditLinesAndLoans       149992 non-null  int64  \n",
      " 8   NumberOfTimes90DaysLate               149992 non-null  int64  \n",
      " 9   NumberRealEstateLoansOrLines          149992 non-null  int64  \n",
      " 10  NumberOfTime60-89DaysPastDueNotWorse  149992 non-null  int64  \n",
      " 11  NumberOfDependents                    146068 non-null  float64\n",
      "dtypes: float64(4), int64(8)\n",
      "memory usage: 13.7 MB\n"
     ]
    }
   ],
   "source": [
    "df.info()"
   ]
  },
  {
   "cell_type": "markdown",
   "id": "c14c042f-42aa-498f-9ed5-855a5688dc78",
   "metadata": {},
   "source": [
    "# 2. Có phải những khách hàng không có người phụ thuộc sẽ có thu nhập trung bình theo tháng (MonthlyIncome) nhỏ hơn những khách hàng có người phụ thuộc không (với mức ý nghĩa 10%)"
   ]
  },
  {
   "cell_type": "code",
   "execution_count": 6,
   "id": "d0983afc-7d90-4ac9-9ade-b38f3f70eafe",
   "metadata": {},
   "outputs": [
    {
     "data": {
      "text/html": [
       "<div>\n",
       "<style scoped>\n",
       "    .dataframe tbody tr th:only-of-type {\n",
       "        vertical-align: middle;\n",
       "    }\n",
       "\n",
       "    .dataframe tbody tr th {\n",
       "        vertical-align: top;\n",
       "    }\n",
       "\n",
       "    .dataframe thead th {\n",
       "        text-align: right;\n",
       "    }\n",
       "</style>\n",
       "<table border=\"1\" class=\"dataframe\">\n",
       "  <thead>\n",
       "    <tr style=\"text-align: right;\">\n",
       "      <th></th>\n",
       "      <th>MonthlyIncome</th>\n",
       "      <th>NumberOfDependents</th>\n",
       "    </tr>\n",
       "  </thead>\n",
       "  <tbody>\n",
       "    <tr>\n",
       "      <th>0</th>\n",
       "      <td>NaN</td>\n",
       "      <td>NaN</td>\n",
       "    </tr>\n",
       "    <tr>\n",
       "      <th>1</th>\n",
       "      <td>23684.0</td>\n",
       "      <td>2.0</td>\n",
       "    </tr>\n",
       "    <tr>\n",
       "      <th>2</th>\n",
       "      <td>2500.0</td>\n",
       "      <td>0.0</td>\n",
       "    </tr>\n",
       "    <tr>\n",
       "      <th>3</th>\n",
       "      <td>6501.0</td>\n",
       "      <td>2.0</td>\n",
       "    </tr>\n",
       "    <tr>\n",
       "      <th>4</th>\n",
       "      <td>12454.0</td>\n",
       "      <td>2.0</td>\n",
       "    </tr>\n",
       "  </tbody>\n",
       "</table>\n",
       "</div>"
      ],
      "text/plain": [
       "   MonthlyIncome  NumberOfDependents\n",
       "0            NaN                 NaN\n",
       "1        23684.0                 2.0\n",
       "2         2500.0                 0.0\n",
       "3         6501.0                 2.0\n",
       "4        12454.0                 2.0"
      ]
     },
     "execution_count": 6,
     "metadata": {},
     "output_type": "execute_result"
    }
   ],
   "source": [
    "# Lấy ra dữ liệu chỉ có \"MonthlyIncome\" và \"NumberOfDependents\"\n",
    "df1 = df.loc[:, [\"MonthlyIncome\", \"NumberOfDependents\"]]\n",
    "df1.head()"
   ]
  },
  {
   "cell_type": "code",
   "execution_count": 7,
   "id": "2e823705-71a5-40ac-a0d5-8d34703f1d6a",
   "metadata": {},
   "outputs": [],
   "source": [
    "df1.dropna(inplace = True)"
   ]
  },
  {
   "cell_type": "code",
   "execution_count": 8,
   "id": "5f776355-4607-4582-828c-10035f4175e2",
   "metadata": {},
   "outputs": [
    {
     "name": "stdout",
     "output_type": "stream",
     "text": [
      "<class 'pandas.core.frame.DataFrame'>\n",
      "Int64Index: 120262 entries, 1 to 149991\n",
      "Data columns (total 2 columns):\n",
      " #   Column              Non-Null Count   Dtype  \n",
      "---  ------              --------------   -----  \n",
      " 0   MonthlyIncome       120262 non-null  float64\n",
      " 1   NumberOfDependents  120262 non-null  float64\n",
      "dtypes: float64(2)\n",
      "memory usage: 2.8 MB\n"
     ]
    }
   ],
   "source": [
    "df1.info()"
   ]
  },
  {
   "cell_type": "code",
   "execution_count": 9,
   "id": "08f7cee9-3335-429e-b015-e38cc5c974b7",
   "metadata": {},
   "outputs": [
    {
     "data": {
      "text/html": [
       "<div>\n",
       "<style scoped>\n",
       "    .dataframe tbody tr th:only-of-type {\n",
       "        vertical-align: middle;\n",
       "    }\n",
       "\n",
       "    .dataframe tbody tr th {\n",
       "        vertical-align: top;\n",
       "    }\n",
       "\n",
       "    .dataframe thead th {\n",
       "        text-align: right;\n",
       "    }\n",
       "</style>\n",
       "<table border=\"1\" class=\"dataframe\">\n",
       "  <thead>\n",
       "    <tr style=\"text-align: right;\">\n",
       "      <th></th>\n",
       "      <th>MonthlyIncome</th>\n",
       "      <th>NumberOfDependents</th>\n",
       "    </tr>\n",
       "  </thead>\n",
       "  <tbody>\n",
       "    <tr>\n",
       "      <th>count</th>\n",
       "      <td>1.202620e+05</td>\n",
       "      <td>120262.000000</td>\n",
       "    </tr>\n",
       "    <tr>\n",
       "      <th>mean</th>\n",
       "      <td>6.669872e+03</td>\n",
       "      <td>0.851848</td>\n",
       "    </tr>\n",
       "    <tr>\n",
       "      <th>std</th>\n",
       "      <td>1.438414e+04</td>\n",
       "      <td>1.148409</td>\n",
       "    </tr>\n",
       "    <tr>\n",
       "      <th>min</th>\n",
       "      <td>0.000000e+00</td>\n",
       "      <td>0.000000</td>\n",
       "    </tr>\n",
       "    <tr>\n",
       "      <th>25%</th>\n",
       "      <td>3.400000e+03</td>\n",
       "      <td>0.000000</td>\n",
       "    </tr>\n",
       "    <tr>\n",
       "      <th>50%</th>\n",
       "      <td>5.400000e+03</td>\n",
       "      <td>0.000000</td>\n",
       "    </tr>\n",
       "    <tr>\n",
       "      <th>75%</th>\n",
       "      <td>8.249000e+03</td>\n",
       "      <td>2.000000</td>\n",
       "    </tr>\n",
       "    <tr>\n",
       "      <th>max</th>\n",
       "      <td>3.008750e+06</td>\n",
       "      <td>20.000000</td>\n",
       "    </tr>\n",
       "  </tbody>\n",
       "</table>\n",
       "</div>"
      ],
      "text/plain": [
       "       MonthlyIncome  NumberOfDependents\n",
       "count   1.202620e+05       120262.000000\n",
       "mean    6.669872e+03            0.851848\n",
       "std     1.438414e+04            1.148409\n",
       "min     0.000000e+00            0.000000\n",
       "25%     3.400000e+03            0.000000\n",
       "50%     5.400000e+03            0.000000\n",
       "75%     8.249000e+03            2.000000\n",
       "max     3.008750e+06           20.000000"
      ]
     },
     "execution_count": 9,
     "metadata": {},
     "output_type": "execute_result"
    }
   ],
   "source": [
    "df1.describe()"
   ]
  },
  {
   "cell_type": "code",
   "execution_count": 11,
   "id": "73ad9a41-e0f5-4466-ab7f-58a3887300e3",
   "metadata": {},
   "outputs": [
    {
     "name": "stdout",
     "output_type": "stream",
     "text": [
      "<class 'pandas.core.frame.DataFrame'>\n",
      "Int64Index: 65452 entries, 2 to 149991\n",
      "Data columns (total 2 columns):\n",
      " #   Column              Non-Null Count  Dtype  \n",
      "---  ------              --------------  -----  \n",
      " 0   MonthlyIncome       65452 non-null  float64\n",
      " 1   NumberOfDependents  65452 non-null  float64\n",
      "dtypes: float64(2)\n",
      "memory usage: 1.5 MB\n"
     ]
    }
   ],
   "source": [
    "# tách ra dữ liệu những người không có phụ thuộc\n",
    "df1_1 = df1[df1.NumberOfDependents == 0]\n",
    "df1_1.info()"
   ]
  },
  {
   "cell_type": "code",
   "execution_count": 14,
   "id": "4e7c5239-97b1-470f-995c-b0627b1c7113",
   "metadata": {},
   "outputs": [
    {
     "data": {
      "text/plain": [
       "count    6.545200e+04\n",
       "mean     5.872649e+03\n",
       "std      1.054375e+04\n",
       "min      0.000000e+00\n",
       "25%      3.000000e+03\n",
       "50%      4.783000e+03\n",
       "75%      7.400000e+03\n",
       "max      1.794060e+06\n",
       "Name: MonthlyIncome, dtype: float64"
      ]
     },
     "execution_count": 14,
     "metadata": {},
     "output_type": "execute_result"
    }
   ],
   "source": [
    "df1_1.MonthlyIncome.describe()"
   ]
  },
  {
   "cell_type": "code",
   "execution_count": 12,
   "id": "6c9237a2-1100-44de-bb17-e7048e85f1fa",
   "metadata": {},
   "outputs": [
    {
     "name": "stdout",
     "output_type": "stream",
     "text": [
      "<class 'pandas.core.frame.DataFrame'>\n",
      "Int64Index: 54810 entries, 1 to 149988\n",
      "Data columns (total 2 columns):\n",
      " #   Column              Non-Null Count  Dtype  \n",
      "---  ------              --------------  -----  \n",
      " 0   MonthlyIncome       54810 non-null  float64\n",
      " 1   NumberOfDependents  54810 non-null  float64\n",
      "dtypes: float64(2)\n",
      "memory usage: 1.3 MB\n"
     ]
    }
   ],
   "source": [
    "# tách ra dữ liệu những người có phụ thuộc\n",
    "df1_2 = df1[df1.NumberOfDependents > 0]\n",
    "df1_2.info()"
   ]
  },
  {
   "cell_type": "code",
   "execution_count": 15,
   "id": "2381416f-0f31-4ef4-b105-9591115ec42c",
   "metadata": {},
   "outputs": [
    {
     "data": {
      "text/plain": [
       "count    5.481000e+04\n",
       "mean     7.621886e+03\n",
       "std      1.787631e+04\n",
       "min      0.000000e+00\n",
       "25%      4.000000e+03\n",
       "50%      6.178000e+03\n",
       "75%      9.166000e+03\n",
       "max      3.008750e+06\n",
       "Name: MonthlyIncome, dtype: float64"
      ]
     },
     "execution_count": 15,
     "metadata": {},
     "output_type": "execute_result"
    }
   ],
   "source": [
    "df1_2.MonthlyIncome.describe()"
   ]
  },
  {
   "cell_type": "markdown",
   "id": "fb887e4a-12e3-4769-a072-210714100d2a",
   "metadata": {},
   "source": [
    "- Giả thuyết không: a1 - a2 >= 0\n",
    "    + a1 - Không có người phụ thuộc\n",
    "    + a2 - Có người phụ thuộc\n",
    "- Giả thuyết đối: a1 - a2 < 0\n",
    "- Mức ý nghĩa: 10%"
   ]
  },
  {
   "cell_type": "code",
   "execution_count": 13,
   "id": "db4c7a0b-62ce-4f76-8efa-d18061359f97",
   "metadata": {},
   "outputs": [
    {
     "name": "stdout",
     "output_type": "stream",
     "text": [
      "Ttest_indResult(statistic=-21.042068853166636, pvalue=4.066681887306811e-98)\n"
     ]
    }
   ],
   "source": [
    "print(stats.ttest_ind(df1_1.MonthlyIncome, df1_2.MonthlyIncome, equal_var= \"False\"))"
   ]
  },
  {
   "cell_type": "markdown",
   "id": "213bd979-78f1-4359-b88e-37ef4a0d7ef6",
   "metadata": {},
   "source": [
    "# 3. Có phải trung bình số lượng khoản vay (NumberOfOpenCreditLinesAndLoans) những khách hàng gặp khó khăn trong vòng 2 năm trở lại đây (SeriousDlqin2yrs =1) thì sẽ cao hơn những khách hàng không gặp khó khăn không với mức ý nghĩa 10%"
   ]
  },
  {
   "cell_type": "code",
   "execution_count": 16,
   "id": "36fd7544-4f34-43a2-8c98-82269ba902c3",
   "metadata": {},
   "outputs": [
    {
     "name": "stdout",
     "output_type": "stream",
     "text": [
      "<class 'pandas.core.frame.DataFrame'>\n",
      "RangeIndex: 149992 entries, 0 to 149991\n",
      "Data columns (total 2 columns):\n",
      " #   Column                           Non-Null Count   Dtype\n",
      "---  ------                           --------------   -----\n",
      " 0   NumberOfOpenCreditLinesAndLoans  149992 non-null  int64\n",
      " 1   SeriousDlqin2yrs                 149992 non-null  int64\n",
      "dtypes: int64(2)\n",
      "memory usage: 2.3 MB\n"
     ]
    }
   ],
   "source": [
    "# Lấy ra dữ liệu chỉ chứa NumberOfOpenCreditLinesAndLoans và SeriousDlqin2yrs\n",
    "df2 = df.loc[:, [\"NumberOfOpenCreditLinesAndLoans\", \"SeriousDlqin2yrs\"]]\n",
    "df2.info()"
   ]
  },
  {
   "cell_type": "code",
   "execution_count": 18,
   "id": "4bc4c2c4-ec3d-4262-bb79-943bab271939",
   "metadata": {},
   "outputs": [
    {
     "name": "stdout",
     "output_type": "stream",
     "text": [
      "<class 'pandas.core.frame.DataFrame'>\n",
      "Int64Index: 149992 entries, 0 to 149991\n",
      "Data columns (total 2 columns):\n",
      " #   Column                           Non-Null Count   Dtype\n",
      "---  ------                           --------------   -----\n",
      " 0   NumberOfOpenCreditLinesAndLoans  149992 non-null  int64\n",
      " 1   SeriousDlqin2yrs                 149992 non-null  int64\n",
      "dtypes: int64(2)\n",
      "memory usage: 3.4 MB\n"
     ]
    }
   ],
   "source": [
    "df2.dropna(inplace = True)\n",
    "df2.info()"
   ]
  },
  {
   "cell_type": "code",
   "execution_count": 19,
   "id": "835d168c-2f6d-40e4-97ee-f7281f46bdb5",
   "metadata": {},
   "outputs": [
    {
     "data": {
      "text/plain": [
       "array([0, 1], dtype=int64)"
      ]
     },
     "execution_count": 19,
     "metadata": {},
     "output_type": "execute_result"
    }
   ],
   "source": [
    "df2.SeriousDlqin2yrs.unique()"
   ]
  },
  {
   "cell_type": "code",
   "execution_count": 21,
   "id": "3a462bab-ae27-4c9e-b9de-5e794bd6367a",
   "metadata": {},
   "outputs": [
    {
     "name": "stdout",
     "output_type": "stream",
     "text": [
      "<class 'pandas.core.frame.DataFrame'>\n",
      "Int64Index: 139967 entries, 0 to 149991\n",
      "Data columns (total 2 columns):\n",
      " #   Column                           Non-Null Count   Dtype\n",
      "---  ------                           --------------   -----\n",
      " 0   NumberOfOpenCreditLinesAndLoans  139967 non-null  int64\n",
      " 1   SeriousDlqin2yrs                 139967 non-null  int64\n",
      "dtypes: int64(2)\n",
      "memory usage: 3.2 MB\n"
     ]
    }
   ],
   "source": [
    "# tách ra dữ liệu chỉ chứa những người không gặp khó khăn trong vòng 2 năm\n",
    "df2_1 = df2[df2.SeriousDlqin2yrs == 0]\n",
    "df2_1.info()"
   ]
  },
  {
   "cell_type": "code",
   "execution_count": 22,
   "id": "ad30fe5d-a8aa-4b62-8c0c-744657512e6f",
   "metadata": {},
   "outputs": [
    {
     "data": {
      "text/plain": [
       "count    139967.000000\n",
       "mean          8.493781\n",
       "std           5.105282\n",
       "min           0.000000\n",
       "25%           5.000000\n",
       "50%           8.000000\n",
       "75%          11.000000\n",
       "max          58.000000\n",
       "Name: NumberOfOpenCreditLinesAndLoans, dtype: float64"
      ]
     },
     "execution_count": 22,
     "metadata": {},
     "output_type": "execute_result"
    }
   ],
   "source": [
    "df2_1.NumberOfOpenCreditLinesAndLoans.describe()"
   ]
  },
  {
   "cell_type": "code",
   "execution_count": 23,
   "id": "bcb4d328-3a31-433a-a963-568063aeab28",
   "metadata": {},
   "outputs": [
    {
     "name": "stdout",
     "output_type": "stream",
     "text": [
      "<class 'pandas.core.frame.DataFrame'>\n",
      "Int64Index: 10025 entries, 5 to 149971\n",
      "Data columns (total 2 columns):\n",
      " #   Column                           Non-Null Count  Dtype\n",
      "---  ------                           --------------  -----\n",
      " 0   NumberOfOpenCreditLinesAndLoans  10025 non-null  int64\n",
      " 1   SeriousDlqin2yrs                 10025 non-null  int64\n",
      "dtypes: int64(2)\n",
      "memory usage: 235.0 KB\n"
     ]
    }
   ],
   "source": [
    "# Tách là dữ liệu nhưng người gặp khó khăn trong vòng 2 năm\n",
    "df2_2 = df2[df2.SeriousDlqin2yrs == 1]\n",
    "df2_2.info()"
   ]
  },
  {
   "cell_type": "code",
   "execution_count": 24,
   "id": "811372d3-6099-427c-b60d-10289d17056e",
   "metadata": {},
   "outputs": [
    {
     "data": {
      "text/plain": [
       "count    10025.000000\n",
       "mean         7.881796\n",
       "std          5.653652\n",
       "min          0.000000\n",
       "25%          4.000000\n",
       "50%          7.000000\n",
       "75%         11.000000\n",
       "max         57.000000\n",
       "Name: NumberOfOpenCreditLinesAndLoans, dtype: float64"
      ]
     },
     "execution_count": 24,
     "metadata": {},
     "output_type": "execute_result"
    }
   ],
   "source": [
    "df2_2.NumberOfOpenCreditLinesAndLoans.describe()"
   ]
  },
  {
   "cell_type": "markdown",
   "id": "3d95e8bd-3579-4e75-877c-40d24749f9c1",
   "metadata": {},
   "source": [
    "- Giả thuyết không: a1 - a2 >= 0\n",
    "    + a1 - Không có khó khăn tài chính\n",
    "    + a2 - Có khó khăn tài chính\n",
    "- Giả thuyết đối: a1 - a2 < 0\n",
    "- Mức ý nghĩa: 10%"
   ]
  },
  {
   "cell_type": "code",
   "execution_count": 26,
   "id": "ddfa2ec3-b67b-4b3b-8b54-179aed8e6f5b",
   "metadata": {},
   "outputs": [
    {
     "name": "stdout",
     "output_type": "stream",
     "text": [
      "Ttest_indResult(statistic=-11.507519665584487, pvalue=1.2454452803390982e-30)\n"
     ]
    }
   ],
   "source": [
    "print(stats.ttest_ind(df2_2.NumberOfOpenCreditLinesAndLoans, df2_1.NumberOfOpenCreditLinesAndLoans, equal_var= \"False\"))"
   ]
  }
 ],
 "metadata": {
  "kernelspec": {
   "display_name": "Python 3 (ipykernel)",
   "language": "python",
   "name": "python3"
  },
  "language_info": {
   "codemirror_mode": {
    "name": "ipython",
    "version": 3
   },
   "file_extension": ".py",
   "mimetype": "text/x-python",
   "name": "python",
   "nbconvert_exporter": "python",
   "pygments_lexer": "ipython3",
   "version": "3.10.1"
  }
 },
 "nbformat": 4,
 "nbformat_minor": 5
}
